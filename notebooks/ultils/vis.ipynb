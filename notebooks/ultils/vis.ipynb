{
 "cells": [
  {
   "cell_type": "code",
   "execution_count": null,
   "metadata": {},
   "outputs": [],
   "source": [
    "import glob\n",
    "import os\n",
    "import itertools\n",
    "import time\n",
    "import warnings\n",
    "\n",
    "import pandas as pd\n",
    "import pandarallel\n",
    "import numpy as np\n",
    "import tqdm\n",
    "\n",
    "import networkx as nx\n",
    "import matplotlib\n",
    "import matplotlib.pyplot as plt\n",
    "import seaborn as sns\n",
    "\n",
    "import statsmodels.stats.multitest\n",
    "\n",
    "warnings.filterwarnings(\"ignore\")\n",
    "np.seterr(all=\"ignore\")\n",
    "\n",
    "pandarallel.pandarallel.initialize(nb_workers=14)"
   ]
  },
  {
   "cell_type": "code",
   "execution_count": null,
   "metadata": {},
   "outputs": [],
   "source": [
    "data = pd.read_csv(r'data./novelty_result.csv')\n",
    "# data = data.loc[data.loc[:, 'FDR'] == True, :].copy()\n",
    "data.loc[:, 'gene_1'] = data.apply(lambda x: x['gene_1'].replace('B_', ''), axis=1, result_type='expand')\n",
    "data.loc[:, 'gene_2'] = data.apply(lambda x: x['gene_2'].replace('B_', ''), axis=1, result_type='expand')\n",
    "\n",
    "clinicals = ['PRT16_U', 'GLU16_U', 'BLOOD16_U','HBA1C', 'GLU0',\n",
    "             'BUN', 'ALBUMIN', 'CREATINE', 'AST', 'T_BIL', 'ALT',\n",
    "             'TCHL', 'R_GTP', 'HDL', 'LDL', 'TG',\n",
    "             'WBC_B', 'RBC_B', 'HB', 'HCT', 'PLAT']\n",
    "\n",
    "cohorts_1 = ['NORMAL',\n",
    "             'HTN', 'DM', 'LIP', 'THY', 'OBESITY',\n",
    "             'BRCA', 'HCCCA', 'GCA', 'LCA', 'GALLCA', 'PROCA', 'PACA', 'THYCA', 'COLCA', 'UTCA']\n",
    "cohorts_2 = ['HTN', 'DM', 'LIP', 'THY', 'OBESITY']\n",
    "cohorts_3 = ['HTN_comp', 'DM_comp', 'LIP_comp', 'THY_comp', 'OBESITY_comp']\n",
    "cohorts_4 = ['BRCA', 'HCCCA', 'GCA', 'LCA', 'GALLCA', 'PROCA', 'PACA', 'THYCA', 'COLCA', 'UTCA']"
   ]
  },
  {
   "attachments": {},
   "cell_type": "markdown",
   "metadata": {},
   "source": [
    "#### Heatmap drawing"
   ]
  },
  {
   "attachments": {},
   "cell_type": "markdown",
   "metadata": {},
   "source": [
    "Cohort heatmap"
   ]
  },
  {
   "cell_type": "code",
   "execution_count": null,
   "metadata": {},
   "outputs": [],
   "source": [
    "# for cohort in set(data.cohort):\n",
    "for cohort in ['HTN', 'DM', 'LIP', 'THY', 'OBESITY']:\n",
    "    fig, ax = plt.subplots(figsize=(6, 5), facecolor='w')\n",
    "    tmp = data.loc[(data.loc[:, 'cohort'] == cohort) &\n",
    "                   (data.loc[:, 'is_weighted'] == True) &\n",
    "                   (data.loc[:, 'with_complication_only'] == True), data.columns[3:]].copy()\n",
    "    tmp = tmp.pivot_table(index='gene_1', columns='gene_2', values='EIS')\n",
    "    tmp.index.name = ''\n",
    "    tmp.columns.name = ''\n",
    "    tmp = tmp.fillna(0)\n",
    "    tmp.loc[:, [x for x in clinicals if x not in tmp.columns]] = 0\n",
    "    tmp = tmp.transpose()\n",
    "    tmp.loc[:, [x for x in clinicals if x not in tmp.columns]] = 0\n",
    "    tmp.transpose()\n",
    "    tmp = tmp.loc[clinicals, clinicals].copy()\n",
    "    tmp = tmp.abs()\n",
    "\n",
    "    mask = np.triu(np.ones(tmp.shape, dtype=bool))\n",
    "    sns.heatmap(tmp, mask=mask, ax=ax, square=True, cmap='crest', linewidth=0.5)\n",
    "    ax.set_title(f\"{cohort} only with complication\")"
   ]
  },
  {
   "attachments": {},
   "cell_type": "markdown",
   "metadata": {},
   "source": [
    "Corhorts Correlation "
   ]
  },
  {
   "cell_type": "code",
   "execution_count": null,
   "metadata": {},
   "outputs": [],
   "source": [
    "# network similarity calculation\n",
    "sim_matrix = pd.DataFrame(index=cohorts_1 + cohorts_3, columns=cohorts_1 + cohorts_3)\n",
    "\n",
    "for cohort_1 in sim_matrix.index:\n",
    "    for cohort_2 in sim_matrix.columns:\n",
    "        # generating adjacency matrices\n",
    "        if '_comp' in cohort_1:\n",
    "            tmp1 = data.loc[(data.loc[:, 'cohort'] == cohort_1.replace('_comp', '')) &\n",
    "                            (data.loc[:, 'is_weighted'] == True) &\n",
    "                            (data.loc[:, 'with_complication_only'] == True), data.columns[3:]].copy()\n",
    "        else:\n",
    "            tmp1 = data.loc[(data.loc[:, 'cohort'] == cohort_1) &\n",
    "                            (data.loc[:, 'is_weighted'] == True) &\n",
    "                            (data.loc[:, 'with_complication_only'] == False), data.columns[3:]].copy()\n",
    "        if '_comp' in cohort_2:\n",
    "            tmp2 = data.loc[(data.loc[:, 'cohort'] == cohort_2.replace('_comp', '')) &\n",
    "                            (data.loc[:, 'is_weighted'] == True) &\n",
    "                            (data.loc[:, 'with_complication_only'] == True), data.columns[3:]].copy()\n",
    "        else:\n",
    "            tmp2 = data.loc[(data.loc[:, 'cohort'] == cohort_2) &\n",
    "                            (data.loc[:, 'is_weighted'] == True) &\n",
    "                            (data.loc[:, 'with_complication_only'] == False), data.columns[3:]].copy()\n",
    "        \n",
    "        tmp1 = tmp1.pivot_table(index='gene_1', columns='gene_2', values='EIS')\n",
    "        tmp1.index.name = ''\n",
    "        tmp1.columns.name = ''\n",
    "        tmp2 = tmp2.pivot_table(index='gene_1', columns='gene_2', values='EIS')\n",
    "        tmp2.index.name = ''\n",
    "        tmp2.columns.name = ''\n",
    "\n",
    "        tmp1.loc[:, [x for x in clinicals if x not in tmp1.columns]] = 0\n",
    "        tmp1 = tmp1.transpose()\n",
    "        tmp1.loc[:, [x for x in clinicals if x not in tmp1.columns]] = 0\n",
    "        tmp1 = tmp1.loc[clinicals, clinicals].copy()\n",
    "\n",
    "        tmp2.loc[:, [x for x in clinicals if x not in tmp2.columns]] = 0\n",
    "        tmp2 = tmp2.transpose()\n",
    "        tmp2.loc[:, [x for x in clinicals if x not in tmp2.columns]] = 0\n",
    "        tmp2 = tmp2.loc[clinicals, clinicals].copy()\n",
    "\n",
    "        tmp1 = tmp1.fillna(0).abs()\n",
    "        tmp2 = tmp2.fillna(0).abs()\n",
    "        \n",
    "        sim_matrix.loc[cohort_1, cohort_2] = np.linalg.norm(tmp1 - tmp2)\n",
    "\n",
    "\n",
    "sim_matrix = sim_matrix.drop_duplicates().transpose().drop_duplicates()\n",
    "\n",
    "fig, ax = plt.subplots(figsize=(7, 7), facecolor='w')\n",
    "mask = np.triu(np.ones(sim_matrix.shape, dtype=bool))\n",
    "sns.heatmap(sim_matrix.astype('float'), ax=ax, mask=mask, square=True, cmap='crest', linewidth=0.5)\n",
    "ax.set_title('Euclidean distance of Networks')"
   ]
  }
 ],
 "metadata": {
  "language_info": {
   "name": "python"
  },
  "orig_nbformat": 4
 },
 "nbformat": 4,
 "nbformat_minor": 2
}
